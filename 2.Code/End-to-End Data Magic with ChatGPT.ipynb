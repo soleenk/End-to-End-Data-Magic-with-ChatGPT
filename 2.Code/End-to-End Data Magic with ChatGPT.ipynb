{
 "cells": [
  {
   "cell_type": "markdown",
   "id": "9fb996c8",
   "metadata": {},
   "source": [
    "### 1.Displaying missing values in each column. As we can see, we have none. "
   ]
  },
  {
   "cell_type": "code",
   "execution_count": 29,
   "id": "d5b61282",
   "metadata": {},
   "outputs": [],
   "source": [
    "import pandas as pd\n",
    "import matplotlib.pyplot as plt\n",
    "import seaborn as sns"
   ]
  },
  {
   "cell_type": "code",
   "execution_count": 30,
   "id": "db4be4c5",
   "metadata": {},
   "outputs": [],
   "source": [
    "loan_df = pd.read_csv(\"loan_data.csv\")"
   ]
  },
  {
   "cell_type": "code",
   "execution_count": 31,
   "id": "c687c46a",
   "metadata": {},
   "outputs": [
    {
     "data": {
      "text/html": [
       "<div>\n",
       "<style scoped>\n",
       "    .dataframe tbody tr th:only-of-type {\n",
       "        vertical-align: middle;\n",
       "    }\n",
       "\n",
       "    .dataframe tbody tr th {\n",
       "        vertical-align: top;\n",
       "    }\n",
       "\n",
       "    .dataframe thead th {\n",
       "        text-align: right;\n",
       "    }\n",
       "</style>\n",
       "<table border=\"1\" class=\"dataframe\">\n",
       "  <thead>\n",
       "    <tr style=\"text-align: right;\">\n",
       "      <th></th>\n",
       "      <th>credit.policy</th>\n",
       "      <th>purpose</th>\n",
       "      <th>int.rate</th>\n",
       "      <th>installment</th>\n",
       "      <th>log.annual.inc</th>\n",
       "      <th>dti</th>\n",
       "      <th>fico</th>\n",
       "      <th>days.with.cr.line</th>\n",
       "      <th>revol.bal</th>\n",
       "      <th>revol.util</th>\n",
       "      <th>inq.last.6mths</th>\n",
       "      <th>delinq.2yrs</th>\n",
       "      <th>pub.rec</th>\n",
       "      <th>not.fully.paid</th>\n",
       "    </tr>\n",
       "  </thead>\n",
       "  <tbody>\n",
       "    <tr>\n",
       "      <th>0</th>\n",
       "      <td>1</td>\n",
       "      <td>debt_consolidation</td>\n",
       "      <td>0.1189</td>\n",
       "      <td>829.10</td>\n",
       "      <td>11.350407</td>\n",
       "      <td>19.48</td>\n",
       "      <td>737</td>\n",
       "      <td>5639.958333</td>\n",
       "      <td>28854</td>\n",
       "      <td>52.1</td>\n",
       "      <td>0</td>\n",
       "      <td>0</td>\n",
       "      <td>0</td>\n",
       "      <td>0</td>\n",
       "    </tr>\n",
       "    <tr>\n",
       "      <th>1</th>\n",
       "      <td>1</td>\n",
       "      <td>credit_card</td>\n",
       "      <td>0.1071</td>\n",
       "      <td>228.22</td>\n",
       "      <td>11.082143</td>\n",
       "      <td>14.29</td>\n",
       "      <td>707</td>\n",
       "      <td>2760.000000</td>\n",
       "      <td>33623</td>\n",
       "      <td>76.7</td>\n",
       "      <td>0</td>\n",
       "      <td>0</td>\n",
       "      <td>0</td>\n",
       "      <td>0</td>\n",
       "    </tr>\n",
       "    <tr>\n",
       "      <th>2</th>\n",
       "      <td>1</td>\n",
       "      <td>debt_consolidation</td>\n",
       "      <td>0.1357</td>\n",
       "      <td>366.86</td>\n",
       "      <td>10.373491</td>\n",
       "      <td>11.63</td>\n",
       "      <td>682</td>\n",
       "      <td>4710.000000</td>\n",
       "      <td>3511</td>\n",
       "      <td>25.6</td>\n",
       "      <td>1</td>\n",
       "      <td>0</td>\n",
       "      <td>0</td>\n",
       "      <td>0</td>\n",
       "    </tr>\n",
       "    <tr>\n",
       "      <th>3</th>\n",
       "      <td>1</td>\n",
       "      <td>debt_consolidation</td>\n",
       "      <td>0.1008</td>\n",
       "      <td>162.34</td>\n",
       "      <td>11.350407</td>\n",
       "      <td>8.10</td>\n",
       "      <td>712</td>\n",
       "      <td>2699.958333</td>\n",
       "      <td>33667</td>\n",
       "      <td>73.2</td>\n",
       "      <td>1</td>\n",
       "      <td>0</td>\n",
       "      <td>0</td>\n",
       "      <td>0</td>\n",
       "    </tr>\n",
       "    <tr>\n",
       "      <th>4</th>\n",
       "      <td>1</td>\n",
       "      <td>credit_card</td>\n",
       "      <td>0.1426</td>\n",
       "      <td>102.92</td>\n",
       "      <td>11.299732</td>\n",
       "      <td>14.97</td>\n",
       "      <td>667</td>\n",
       "      <td>4066.000000</td>\n",
       "      <td>4740</td>\n",
       "      <td>39.5</td>\n",
       "      <td>0</td>\n",
       "      <td>1</td>\n",
       "      <td>0</td>\n",
       "      <td>0</td>\n",
       "    </tr>\n",
       "  </tbody>\n",
       "</table>\n",
       "</div>"
      ],
      "text/plain": [
       "   credit.policy             purpose  int.rate  installment  log.annual.inc  \\\n",
       "0              1  debt_consolidation    0.1189       829.10       11.350407   \n",
       "1              1         credit_card    0.1071       228.22       11.082143   \n",
       "2              1  debt_consolidation    0.1357       366.86       10.373491   \n",
       "3              1  debt_consolidation    0.1008       162.34       11.350407   \n",
       "4              1         credit_card    0.1426       102.92       11.299732   \n",
       "\n",
       "     dti  fico  days.with.cr.line  revol.bal  revol.util  inq.last.6mths  \\\n",
       "0  19.48   737        5639.958333      28854        52.1               0   \n",
       "1  14.29   707        2760.000000      33623        76.7               0   \n",
       "2  11.63   682        4710.000000       3511        25.6               1   \n",
       "3   8.10   712        2699.958333      33667        73.2               1   \n",
       "4  14.97   667        4066.000000       4740        39.5               0   \n",
       "\n",
       "   delinq.2yrs  pub.rec  not.fully.paid  \n",
       "0            0        0               0  \n",
       "1            0        0               0  \n",
       "2            0        0               0  \n",
       "3            0        0               0  \n",
       "4            1        0               0  "
      ]
     },
     "execution_count": 31,
     "metadata": {},
     "output_type": "execute_result"
    }
   ],
   "source": [
    "loan_df.head()"
   ]
  },
  {
   "cell_type": "markdown",
   "id": "4bbeadae",
   "metadata": {},
   "source": [
    "### 2.Displaying the number of rows and columns and statistical summary for numerical variables. "
   ]
  },
  {
   "cell_type": "code",
   "execution_count": 32,
   "id": "85db7d81",
   "metadata": {},
   "outputs": [
    {
     "name": "stdout",
     "output_type": "stream",
     "text": [
      "Number of rows and columns: (9578, 14)\n"
     ]
    }
   ],
   "source": [
    "# Display the number of rows and columns in the dataset\n",
    "print(\"Number of rows and columns:\", loan_df.shape)"
   ]
  },
  {
   "cell_type": "code",
   "execution_count": 33,
   "id": "3308caf7",
   "metadata": {},
   "outputs": [
    {
     "name": "stdout",
     "output_type": "stream",
     "text": [
      "       credit.policy     int.rate  installment  log.annual.inc          dti  \\\n",
      "count    9578.000000  9578.000000  9578.000000     9578.000000  9578.000000   \n",
      "mean        0.804970     0.122640   319.089413       10.932117    12.606679   \n",
      "std         0.396245     0.026847   207.071301        0.614813     6.883970   \n",
      "min         0.000000     0.060000    15.670000        7.547502     0.000000   \n",
      "25%         1.000000     0.103900   163.770000       10.558414     7.212500   \n",
      "50%         1.000000     0.122100   268.950000       10.928884    12.665000   \n",
      "75%         1.000000     0.140700   432.762500       11.291293    17.950000   \n",
      "max         1.000000     0.216400   940.140000       14.528354    29.960000   \n",
      "\n",
      "              fico  days.with.cr.line     revol.bal   revol.util  \\\n",
      "count  9578.000000        9578.000000  9.578000e+03  9578.000000   \n",
      "mean    710.846314        4560.767197  1.691396e+04    46.799236   \n",
      "std      37.970537        2496.930377  3.375619e+04    29.014417   \n",
      "min     612.000000         178.958333  0.000000e+00     0.000000   \n",
      "25%     682.000000        2820.000000  3.187000e+03    22.600000   \n",
      "50%     707.000000        4139.958333  8.596000e+03    46.300000   \n",
      "75%     737.000000        5730.000000  1.824950e+04    70.900000   \n",
      "max     827.000000       17639.958330  1.207359e+06   119.000000   \n",
      "\n",
      "       inq.last.6mths  delinq.2yrs      pub.rec  not.fully.paid  \n",
      "count     9578.000000  9578.000000  9578.000000     9578.000000  \n",
      "mean         1.577469     0.163708     0.062122        0.160054  \n",
      "std          2.200245     0.546215     0.262126        0.366676  \n",
      "min          0.000000     0.000000     0.000000        0.000000  \n",
      "25%          0.000000     0.000000     0.000000        0.000000  \n",
      "50%          1.000000     0.000000     0.000000        0.000000  \n",
      "75%          2.000000     0.000000     0.000000        0.000000  \n",
      "max         33.000000    13.000000     5.000000        1.000000  \n"
     ]
    }
   ],
   "source": [
    "# Display summary statistics for numerical variables\n",
    "print(loan_df.describe())"
   ]
  },
  {
   "cell_type": "markdown",
   "id": "4912dc68",
   "metadata": {},
   "source": [
    "### 3.Displaying missing values in each column. As we can see, we have none. "
   ]
  },
  {
   "cell_type": "code",
   "execution_count": 34,
   "id": "a49577b7",
   "metadata": {},
   "outputs": [
    {
     "name": "stdout",
     "output_type": "stream",
     "text": [
      "credit.policy        0\n",
      "purpose              0\n",
      "int.rate             0\n",
      "installment          0\n",
      "log.annual.inc       0\n",
      "dti                  0\n",
      "fico                 0\n",
      "days.with.cr.line    0\n",
      "revol.bal            0\n",
      "revol.util           0\n",
      "inq.last.6mths       0\n",
      "delinq.2yrs          0\n",
      "pub.rec              0\n",
      "not.fully.paid       0\n",
      "dtype: int64\n"
     ]
    }
   ],
   "source": [
    "print(loan_df.isnull().sum())"
   ]
  },
  {
   "cell_type": "markdown",
   "id": "374550e4",
   "metadata": {},
   "source": [
    "### 4.Visualizing the distribution of target variable “not.fully.paid”"
   ]
  },
  {
   "cell_type": "code",
   "execution_count": 35,
   "id": "55397178",
   "metadata": {},
   "outputs": [
    {
     "data": {
      "image/png": "[encoded data removed]",
      "text/plain": [
       "<Figure size 432x288 with 1 Axes>"
      ]
     },
     "metadata": {
      "needs_background": "light"
     },
     "output_type": "display_data"
    }
   ],
   "source": [
    "sns.countplot(x=\"not.fully.paid\", data=loan_df)\n",
    "plt.show()"
   ]
  },
  {
   "cell_type": "markdown",
   "id": "27e56e8d",
   "metadata": {},
   "source": [
    "### 5.Visualizing the correlation between variables."
   ]
  },
  {
   "cell_type": "code",
   "execution_count": 36,
   "id": "aeb75746",
   "metadata": {},
   "outputs": [
    {
     "data": {
      "image/png": "[encoded data removed]",
      "text/plain": [
       "<Figure size 432x288 with 2 Axes>"
      ]
     },
     "metadata": {
      "needs_background": "light"
     },
     "output_type": "display_data"
    }
   ],
   "source": [
    "corr = loan_df.corr()\n",
    "sns.heatmap(corr, annot=True, cmap=\"coolwarm\")\n",
    "plt.show()"
   ]
  },
  {
   "cell_type": "markdown",
   "id": "e18cc4c7",
   "metadata": {},
   "source": [
    "### 6.Understanding loan purpose distribution."
   ]
  },
  {
   "cell_type": "code",
   "execution_count": 37,
   "id": "163687e2",
   "metadata": {},
   "outputs": [
    {
     "data": {
      "image/png": "[encoded data removed]",
      "text/plain": [
       "<Figure size 432x288 with 1 Axes>"
      ]
     },
     "metadata": {
      "needs_background": "light"
     },
     "output_type": "display_data"
    }
   ],
   "source": [
    "sns.countplot(x=\"purpose\", data=loan_df)\n",
    "plt.xticks(rotation=90)\n",
    "plt.show()"
   ]
  },
  {
   "cell_type": "markdown",
   "id": "5474da71",
   "metadata": {},
   "source": [
    "### 7.Understanding the distribution of interest rates by loan purpose."
   ]
  },
  {
   "cell_type": "code",
   "execution_count": 38,
   "id": "12203acf",
   "metadata": {},
   "outputs": [
    {
     "data": {
      "image/png": "[encoded data removed]",
      "text/plain": [
       "<Figure size 432x288 with 1 Axes>"
      ]
     },
     "metadata": {
      "needs_background": "light"
     },
     "output_type": "display_data"
    }
   ],
   "source": [
    "sns.boxplot(x=\"purpose\", y=\"int.rate\", data=loan_df)\n",
    "plt.xticks(rotation=90)\n",
    "plt.show()"
   ]
  },
  {
   "cell_type": "markdown",
   "id": "0cabc55f",
   "metadata": {},
   "source": [
    "### Feature Engineering\n",
    "Instead of preprocessing and cleaning the data, we will perform feature engineering to simplify the preprocessing task. "
   ]
  },
  {
   "cell_type": "code",
   "execution_count": 39,
   "id": "de0cb393",
   "metadata": {},
   "outputs": [],
   "source": [
    "# Perform feature engineering\n",
    "loan_df[\"installment_to_income_ratio\"] = (\n",
    "    loan_df[\"installment\"] / loan_df[\"log.annual.inc\"]\n",
    ")\n",
    "loan_df[\"credit_history\"] = (loan_df[\"delinq.2yrs\"] + loan_df[\"pub.rec\"]) / loan_df[\n",
    "    \"fico\"\n",
    "]"
   ]
  },
  {
   "cell_type": "markdown",
   "id": "2333fc93",
   "metadata": {},
   "source": [
    "### Preprocessing and Balancing the Data\n",
    "Again, ChatGPT knows the context of the project. We don't have to explain everything again. So, we will simply ask it to write a Python code to clean and preprocess the data. \n",
    "\n",
    "Follow-up Prompt: “Now write a python code to clean and preprocess the dataset”\n",
    "\n",
    "1.Dropping unnecessary columns and converting the categorical variables to numerical ones."
   ]
  },
  {
   "cell_type": "code",
   "execution_count": 40,
   "id": "bc12c830",
   "metadata": {},
   "outputs": [],
   "source": [
    "from sklearn.preprocessing import LabelEncoder, StandardScaler\n",
    "\n",
    "loan_df = loan_df.drop(['credit.policy', 'days.with.cr.line', 'purpose'], axis=1)\n",
    "\n",
    "# Convert categorical variables to numerical using LabelEncoder\n",
    "le = LabelEncoder()\n",
    "loan_df['not.fully.paid'] = le.fit_transform(loan_df['not.fully.paid'])"
   ]
  },
  {
   "cell_type": "markdown",
   "id": "b69112ba",
   "metadata": {},
   "source": [
    "\n",
    "2.Scaling the numerical features using Standard Scaler. "
   ]
  },
  {
   "cell_type": "code",
   "execution_count": 41,
   "id": "18837e47",
   "metadata": {},
   "outputs": [],
   "source": [
    "scaler = StandardScaler()\n",
    "numerical_cols = ['int.rate', 'installment', 'log.annual.inc', 'dti', 'fico', 'revol.bal', 'revol.util', 'inq.last.6mths', 'delinq.2yrs', 'pub.rec','credit_history','installment_to_income_ratio']\n",
    "loan_df[numerical_cols] = scaler.fit_transform(loan_df[numerical_cols])"
   ]
  },
  {
   "cell_type": "markdown",
   "id": "a5db080e",
   "metadata": {},
   "source": [
    "3.Handling class imbalancing using imblearn’s oversampling method. "
   ]
  },
  {
   "cell_type": "code",
   "execution_count": 42,
   "id": "eda470d4",
   "metadata": {},
   "outputs": [
    {
     "data": {
      "text/plain": [
       "1    8045\n",
       "0    8045\n",
       "Name: not.fully.paid, dtype: int64"
      ]
     },
     "execution_count": 42,
     "metadata": {},
     "output_type": "execute_result"
    }
   ],
   "source": [
    "from imblearn.over_sampling import SMOTE\n",
    "\n",
    "sm = SMOTE(random_state=42)\n",
    "\n",
    "X = loan_df.drop('not.fully.paid', axis=1)\n",
    "y = loan_df['not.fully.paid']\n",
    "\n",
    "X_resampled, y_resampled = sm.fit_resample(X, y)\n",
    "\n",
    "loan_df = pd.concat([X_resampled, y_resampled], axis=1)\n",
    "loan_df['not.fully.paid'].value_counts()"
   ]
  },
  {
   "cell_type": "code",
   "execution_count": 43,
   "id": "f43fac83",
   "metadata": {},
   "outputs": [],
   "source": [
    "from imblearn.over_sampling import SMOTE"
   ]
  },
  {
   "cell_type": "code",
   "execution_count": 44,
   "id": "a81dff4f",
   "metadata": {},
   "outputs": [
    {
     "name": "stdout",
     "output_type": "stream",
     "text": [
      "Requirement already satisfied: imblearn in c:\\users\\soleen.alkhaffaf\\anaconda3\\lib\\site-packages (0.0)\n",
      "Requirement already satisfied: imbalanced-learn in c:\\users\\soleen.alkhaffaf\\anaconda3\\lib\\site-packages (from imblearn) (0.7.0)\n",
      "Requirement already satisfied: numpy>=1.13.3 in c:\\users\\soleen.alkhaffaf\\anaconda3\\lib\\site-packages (from imbalanced-learn->imblearn) (1.23.5)\n",
      "Requirement already satisfied: scipy>=0.19.1 in c:\\users\\soleen.alkhaffaf\\anaconda3\\lib\\site-packages (from imbalanced-learn->imblearn) (1.10.1)\n",
      "Requirement already satisfied: scikit-learn>=0.23 in c:\\users\\soleen.alkhaffaf\\anaconda3\\lib\\site-packages (from imbalanced-learn->imblearn) (1.2.2)\n",
      "Requirement already satisfied: joblib>=0.11 in c:\\users\\soleen.alkhaffaf\\anaconda3\\lib\\site-packages (from imbalanced-learn->imblearn) (1.2.0)\n",
      "Requirement already satisfied: threadpoolctl>=2.0.0 in c:\\users\\soleen.alkhaffaf\\anaconda3\\lib\\site-packages (from scikit-learn>=0.23->imbalanced-learn->imblearn) (2.1.0)\n",
      "Note: you may need to restart the kernel to use updated packages.\n"
     ]
    },
    {
     "name": "stderr",
     "output_type": "stream",
     "text": [
      "WARNING: Ignoring invalid distribution -atplotlib (c:\\users\\soleen.alkhaffaf\\anaconda3\\lib\\site-packages)\n",
      "WARNING: Ignoring invalid distribution -atplotlib (c:\\users\\soleen.alkhaffaf\\anaconda3\\lib\\site-packages)\n"
     ]
    }
   ],
   "source": [
    "pip install imblearn"
   ]
  },
  {
   "cell_type": "markdown",
   "id": "14f105da",
   "metadata": {},
   "source": [
    "### Model Selection\n",
    "In this part, we have asked ChatGPT to train the data on various models for a model selection task."
   ]
  },
  {
   "cell_type": "code",
   "execution_count": 45,
   "id": "7bcb38c6",
   "metadata": {},
   "outputs": [
    {
     "name": "stdout",
     "output_type": "stream",
     "text": [
      "Decision Tree Classifier Accuracy: 81.21%\n",
      "Random Forest Classifier Accuracy: 89.14%\n",
      "Logistic Regression Classifier Accuracy: 61.32%\n",
      "Support Vector Machine Classifier Accuracy: 66.54%\n"
     ]
    }
   ],
   "source": [
    "from sklearn.ensemble import RandomForestClassifier\n",
    "from sklearn.model_selection import train_test_split\n",
    "\n",
    "# Split the dataset into training and testing sets\n",
    "X = loan_df.drop('not.fully.paid', axis=1)\n",
    "y = loan_df['not.fully.paid']\n",
    "X_train, X_test, y_train, y_test = train_test_split(X, y, test_size=0.3, random_state=42)\n",
    "\n",
    "# Fit and evaluate decision tree classifier\n",
    "dt = DecisionTreeClassifier(random_state=42)\n",
    "dt.fit(X_train, y_train)\n",
    "dt_score = dt.score(X_test, y_test)\n",
    "print(\"Decision Tree Classifier Accuracy: {:.2f}%\".format(dt_score*100))\n",
    "\n",
    "# Fit and evaluate random forest classifier\n",
    "rf = RandomForestClassifier(random_state=42)\n",
    "rf.fit(X_train, y_train)\n",
    "rf_score = rf.score(X_test, y_test)\n",
    "print(\"Random Forest Classifier Accuracy: {:.2f}%\".format(rf_score*100))\n",
    "\n",
    "# Fit and evaluate logistic regression classifier\n",
    "lr = LogisticRegression(random_state=42)\n",
    "lr.fit(X_train, y_train)\n",
    "lr_score = lr.score(X_test, y_test)\n",
    "print(\"Logistic Regression Classifier Accuracy: {:.2f}%\".format(lr_score*100))\n",
    "\n",
    "# Fit and evaluate support vector machine classifier\n",
    "svm = SVC(random_state=42)\n",
    "svm.fit(X_train, y_train)\n",
    "svm_score = svm.score(X_test, y_test)\n",
    "print(\"Support Vector Machine Classifier Accuracy: {:.2f}%\".format(svm_score*100))\n"
   ]
  },
  {
   "cell_type": "code",
   "execution_count": 46,
   "id": "cac52a30",
   "metadata": {},
   "outputs": [],
   "source": [
    "from sklearn.tree import DecisionTreeClassifier"
   ]
  },
  {
   "cell_type": "code",
   "execution_count": 47,
   "id": "4a034679",
   "metadata": {},
   "outputs": [],
   "source": [
    "from sklearn.linear_model import LogisticRegression\n"
   ]
  },
  {
   "cell_type": "code",
   "execution_count": 48,
   "id": "90906ce4",
   "metadata": {},
   "outputs": [
    {
     "name": "stdout",
     "output_type": "stream",
     "text": [
      "Requirement already satisfied: scikit-learn in c:\\users\\soleen.alkhaffaf\\anaconda3\\lib\\site-packages (1.2.2)\n",
      "Requirement already satisfied: numpy>=1.17.3 in c:\\users\\soleen.alkhaffaf\\anaconda3\\lib\\site-packages (from scikit-learn) (1.23.5)\n",
      "Requirement already satisfied: scipy>=1.3.2 in c:\\users\\soleen.alkhaffaf\\anaconda3\\lib\\site-packages (from scikit-learn) (1.10.1)\n",
      "Requirement already satisfied: joblib>=1.1.1 in c:\\users\\soleen.alkhaffaf\\anaconda3\\lib\\site-packages (from scikit-learn) (1.2.0)\n",
      "Requirement already satisfied: threadpoolctl>=2.0.0 in c:\\users\\soleen.alkhaffaf\\anaconda3\\lib\\site-packages (from scikit-learn) (2.1.0)\n",
      "Note: you may need to restart the kernel to use updated packages.\n"
     ]
    },
    {
     "name": "stderr",
     "output_type": "stream",
     "text": [
      "WARNING: Ignoring invalid distribution -atplotlib (c:\\users\\soleen.alkhaffaf\\anaconda3\\lib\\site-packages)\n",
      "WARNING: Ignoring invalid distribution -atplotlib (c:\\users\\soleen.alkhaffaf\\anaconda3\\lib\\site-packages)\n"
     ]
    }
   ],
   "source": [
    "pip install scikit-learn\n"
   ]
  },
  {
   "cell_type": "code",
   "execution_count": 49,
   "id": "cbaf6240",
   "metadata": {},
   "outputs": [],
   "source": [
    "from sklearn.svm import SVC\n"
   ]
  },
  {
   "cell_type": "code",
   "execution_count": 50,
   "id": "8ae3b55e",
   "metadata": {},
   "outputs": [
    {
     "name": "stdout",
     "output_type": "stream",
     "text": [
      "Requirement already satisfied: scikit-learn in c:\\users\\soleen.alkhaffaf\\anaconda3\\lib\\site-packages (1.2.2)\n",
      "Requirement already satisfied: numpy>=1.17.3 in c:\\users\\soleen.alkhaffaf\\anaconda3\\lib\\site-packages (from scikit-learn) (1.23.5)\n",
      "Requirement already satisfied: scipy>=1.3.2 in c:\\users\\soleen.alkhaffaf\\anaconda3\\lib\\site-packages (from scikit-learn) (1.10.1)\n",
      "Requirement already satisfied: joblib>=1.1.1 in c:\\users\\soleen.alkhaffaf\\anaconda3\\lib\\site-packages (from scikit-learn) (1.2.0)\n",
      "Requirement already satisfied: threadpoolctl>=2.0.0 in c:\\users\\soleen.alkhaffaf\\anaconda3\\lib\\site-packages (from scikit-learn) (2.1.0)\n",
      "Note: you may need to restart the kernel to use updated packages.\n"
     ]
    },
    {
     "name": "stderr",
     "output_type": "stream",
     "text": [
      "WARNING: Ignoring invalid distribution -atplotlib (c:\\users\\soleen.alkhaffaf\\anaconda3\\lib\\site-packages)\n",
      "WARNING: Ignoring invalid distribution -atplotlib (c:\\users\\soleen.alkhaffaf\\anaconda3\\lib\\site-packages)\n"
     ]
    }
   ],
   "source": [
    "pip install scikit-learn\n"
   ]
  },
  {
   "cell_type": "markdown",
   "id": "ef5eaa8d",
   "metadata": {},
   "source": [
    "### Hyperparameter Tuning and Model Evaluation \n",
    "We will be selecting the better-performing model and performing the model evaluation. We have specified the use of accuracy, precision, recall, and F1 score as metrics and cross-validation to ensure the model stability."
   ]
  },
  {
   "cell_type": "code",
   "execution_count": null,
   "id": "68fea297",
   "metadata": {},
   "outputs": [],
   "source": [
    "from sklearn.model_selection import GridSearchCV\n",
    "from sklearn.metrics import accuracy_score, precision_score, recall_score, f1_score\n",
    "# Define the parameter grid for hyperparameter tuning\n",
    "param_grid = {\n",
    "    'n_estimators': [100, 200, 300],\n",
    "    'max_depth': [10, 20, 30, None],\n",
    "    'min_samples_split': [2, 5, 10],\n",
    "    'min_samples_leaf': [1, 2, 4]\n",
    "}\n",
    "\n",
    "# Perform grid search with cross-validation to find the best hyperparameters\n",
    "grid_search = GridSearchCV(rf, param_grid, cv=5, scoring='f1')\n",
    "grid_search.fit(X_train, y_train)\n",
    "\n",
    "# Get the best model and its hyperparameters\n",
    "best_model = grid_search.best_estimator_\n",
    "best_params = grid_search.best_params_\n",
    "\n",
    "# Evaluate the best model on the testing set\n",
    "y_pred = best_model.predict(X_test)\n",
    "accuracy = accuracy_score(y_test, y_pred)\n",
    "precision = precision_score(y_test, y_pred)\n",
    "recall = recall_score(y_test, y_pred)\n",
    "f1 = f1_score(y_test, y_pred)\n",
    "\n",
    "# Print the results\n",
    "print(\"Random Forest Classifier Evaluation Results:\")\n",
    "print(\"Accuracy: {:.2f}%\".format(accuracy * 100))\n",
    "print(\"Precision: {:.2f}%\".format(precision * 100))\n",
    "print(\"Recall: {:.2f}%\".format(recall * 100))\n",
    "print(\"F1 Score: {:.2f}%\".format(f1 * 100))\n",
    "print(\"Best hyperparameters:\", best_params)"
   ]
  },
  {
   "cell_type": "markdown",
   "id": "077cc911",
   "metadata": {},
   "source": [
    "### Creating a Web App using Gradio\n",
    "Now comes the most fun part. We will only use prompts to create a fully customizable web app that will take numerical input and display the results using a machine-learning model. \n",
    "\n",
    "ChatGPT already knows the context, so we need to just ask it to write a Gradio web app for the loan data classifier. "
   ]
  },
  {
   "cell_type": "code",
   "execution_count": null,
   "id": "b7320316",
   "metadata": {},
   "outputs": [],
   "source": [
    "import gradio as gr\n",
    "import joblib\n",
    "# Load the trained model\n",
    "model = joblib.load(\"loan_classifier.joblib\")\n",
    "\n",
    "\n",
    "def predict_loan_status(\n",
    "    int_rate,\n",
    "    installment,\n",
    "    log_annual_inc,\n",
    "    dti,\n",
    "    fico,\n",
    "    revol_bal,\n",
    "    revol_util,\n",
    "    inq_last_6mths,\n",
    "    delinq_2yrs,\n",
    "    pub_rec,\n",
    "    installment_to_income_ratio,\n",
    "    credit_history,\n",
    "):\n",
    "    input_dict = {\n",
    "        \"int.rate\": int_rate,\n",
    "        \"installment\": installment,\n",
    "        \"log.annual.inc\": log_annual_inc,\n",
    "        \"dti\": dti,\n",
    "        \"fico\": fico,\n",
    "        \"revol.bal\": revol_bal,\n",
    "        \"revol.util\": revol_util,\n",
    "        \"inq.last.6mths\": inq_last_6mths,\n",
    "        \"delinq.2yrs\": delinq_2yrs,\n",
    "        \"pub.rec\": pub_rec,\n",
    "        \"installment_to_income_ratio\": installment_to_income_ratio,\n",
    "        \"credit_history\": credit_history,\n",
    "    }\n",
    "    # Convert the dictionary to a 2D array\n",
    "    input_array = [list(input_dict.values())]\n",
    "    prediction = model.predict(input_array)[0]\n",
    "\n",
    "    if prediction == 0:\n",
    "        return \"Loan fully paid\"\n",
    "    else:\n",
    "        return \"Loan not fully paid\"\n",
    "\n",
    "\n",
    "inputs = [\n",
    "    gr.Slider(0.06, 0.23, step=0.01, label=\"Interest Rate\"),\n",
    "    gr.Slider(100, 950, step=10, label=\"Installment\"),\n",
    "    gr.Slider(7, 15, step=0.1, label=\"Log Annual Income\"),\n",
    "    gr.Slider(0, 40, step=1, label=\"DTI Ratio\"),\n",
    "    gr.Slider(600, 850, step=1, label=\"FICO Score\"),\n",
    "    gr.Slider(0, 120000, step=1000, label=\"Revolving Balance\"),\n",
    "    gr.Slider(0, 120, step=1, label=\"Revolving Utilization\"),\n",
    "    gr.Slider(0, 10, step=1, label=\"Inquiries in Last 6 Months\"),\n",
    "    gr.Slider(0, 20, step=1, label=\"Delinquencies in Last 2 Years\"),\n",
    "    gr.Slider(0, 10, step=1, label=\"Public Records\"),\n",
    "    gr.Slider(0, 5, step=0.1, label=\"Installment to Income Ratio\"),\n",
    "    gr.Slider(0, 1, step=0.01, label=\"Credit History\"),\n",
    "]\n",
    "outputs = [gr.Label(num_top_classes=2)]\n",
    "\n",
    "title = \"Loan Approval Classifier\"\n",
    "description = (\n",
    "    \"Enter the details of the loan applicant to check if the loan is approved or not.\"\n",
    ")\n",
    "gr.Interface(\n",
    "    fn=predict_loan_status,\n",
    "    inputs=inputs,\n",
    "    outputs=outputs,\n",
    "    title=title,\n",
    "    description=description,\n",
    ").launch()"
   ]
  },
  {
   "cell_type": "code",
   "execution_count": null,
   "id": "19b6f022",
   "metadata": {},
   "outputs": [],
   "source": [
    "scalar = joblib.load('std_scaler.bin')"
   ]
  },
  {
   "cell_type": "code",
   "execution_count": null,
   "id": "b5b5fc1b",
   "metadata": {},
   "outputs": [],
   "source": [
    "input_array = [list(input_dict.values())]\n",
    "scaled_array = scalar.transform(input_array)\n",
    "prediction = model.predict(scaled_array)[0]"
   ]
  },
  {
   "cell_type": "code",
   "execution_count": null,
   "id": "778c7f50",
   "metadata": {},
   "outputs": [],
   "source": []
  },
  {
   "cell_type": "code",
   "execution_count": null,
   "id": "6177af15",
   "metadata": {},
   "outputs": [],
   "source": []
  },
  {
   "cell_type": "code",
   "execution_count": null,
   "id": "f8f8d2d4",
   "metadata": {},
   "outputs": [],
   "source": []
  },
  {
   "cell_type": "code",
   "execution_count": null,
   "id": "7ca891f0",
   "metadata": {},
   "outputs": [],
   "source": []
  },
  {
   "cell_type": "code",
   "execution_count": null,
   "id": "85c38bb6",
   "metadata": {},
   "outputs": [],
   "source": []
  },
  {
   "cell_type": "code",
   "execution_count": null,
   "id": "359e8ab7",
   "metadata": {},
   "outputs": [],
   "source": []
  },
  {
   "cell_type": "code",
   "execution_count": null,
   "id": "36620ba6",
   "metadata": {},
   "outputs": [],
   "source": []
  },
  {
   "cell_type": "code",
   "execution_count": null,
   "id": "4072480e",
   "metadata": {},
   "outputs": [],
   "source": []
  },
  {
   "cell_type": "code",
   "execution_count": null,
   "id": "220a2e9c",
   "metadata": {},
   "outputs": [],
   "source": []
  },
  {
   "cell_type": "code",
   "execution_count": null,
   "id": "46f4f625",
   "metadata": {},
   "outputs": [],
   "source": []
  },
  {
   "cell_type": "code",
   "execution_count": null,
   "id": "1f0961e9",
   "metadata": {},
   "outputs": [],
   "source": []
  },
  {
   "cell_type": "code",
   "execution_count": null,
   "id": "35fcc5c0",
   "metadata": {},
   "outputs": [],
   "source": []
  },
  {
   "cell_type": "code",
   "execution_count": null,
   "id": "a1d354fe",
   "metadata": {},
   "outputs": [],
   "source": []
  }
 ],
 "metadata": {
  "kernelspec": {
   "display_name": "Python 3",
   "language": "python",
   "name": "python3"
  },
  "language_info": {
   "codemirror_mode": {
    "name": "ipython",
    "version": 3
   },
   "file_extension": ".py",
   "mimetype": "text/x-python",
   "name": "python",
   "nbconvert_exporter": "python",
   "pygments_lexer": "ipython3",
   "version": "3.8.8"
  }
 },
 "nbformat": 4,
 "nbformat_minor": 5
}
